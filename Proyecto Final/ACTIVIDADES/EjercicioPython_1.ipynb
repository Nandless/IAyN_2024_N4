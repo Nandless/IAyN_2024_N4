{
  "nbformat": 4,
  "nbformat_minor": 0,
  "metadata": {
    "colab": {
      "provenance": []
    },
    "kernelspec": {
      "name": "python3",
      "display_name": "Python 3"
    },
    "language_info": {
      "name": "python"
    }
  },
  "cells": [
    {
      "cell_type": "code",
      "source": [
        "# Titulo: Ejercicio Python_1  Nombre: Fernando Puente Sosa    Matricula:2012151     Hora clase: N4-N6"
      ],
      "metadata": {
        "id": "LAdQjurp_0FM"
      },
      "execution_count": null,
      "outputs": []
    },
    {
      "cell_type": "code",
      "execution_count": null,
      "metadata": {
        "colab": {
          "base_uri": "https://localhost:8080/"
        },
        "id": "BqRhIGGG44NF",
        "outputId": "b1b7bb40-ebe8-49ff-8d22-18b1a91b7e96"
      },
      "outputs": [
        {
          "output_type": "stream",
          "name": "stdout",
          "text": [
            "Por favor, ingresa tu nombre: juan\n",
            "Hola, persona  super especial.\n"
          ]
        }
      ],
      "source": [
        "# 1- Desarrolla un algoritmo que le pida al usuario por su nombre y que lo salude con su nombre, excepto si se llama “Ana”, “Juan”, y “Pedro”\n",
        "\n",
        "# Solicitar al usuario su nombre\n",
        "nombre = input(\"Por favor, ingresa tu nombre: \")\n",
        "\n",
        "# Verificar si el nombre está en la lista de exclusiones\n",
        "if nombre.lower() in [\"ana\", \"juan\", \"pedro\"]:\n",
        "    print(\"Hola, persona  super especial.\")\n",
        "else:\n",
        "    print(f\"Hola, {nombre}! ¡Bienvenido!\")\n"
      ]
    },
    {
      "cell_type": "code",
      "source": [
        "# 2- Desarrolla un algoritmo que por medio de una función, le pida al usuario una lista de N elementos y como resultado invierta el sentido de la lista.\n",
        "\n",
        "def invertir_lista():\n",
        "    # Solicitar al usuario el número de elementos en la lista\n",
        "    n = int(input(\"Ingresa el número de elementos en la lista: \"))\n",
        "\n",
        "    # Solicitar al usuario los elementos de la lista\n",
        "    lista_original = []\n",
        "    for i in range(n):\n",
        "        elemento = input(f\"Ingresa el elemento {i+1}: \")\n",
        "        lista_original.append(elemento)\n",
        "\n",
        "    # Invertir la lista\n",
        "    lista_invertida = lista_original[::-1]\n",
        "\n",
        "    # Mostrar la lista original y la lista invertida\n",
        "    print(\"\\nLista original:\", lista_original)\n",
        "    print(\"Lista invertida:\", lista_invertida)\n",
        "\n",
        "# Llamar a la función para invertir la lista\n",
        "invertir_lista()\n"
      ],
      "metadata": {
        "colab": {
          "base_uri": "https://localhost:8080/"
        },
        "id": "aih6yEiD5Eoo",
        "outputId": "699558cb-bdcf-45c0-fff4-aef8c1e3709b"
      },
      "execution_count": null,
      "outputs": [
        {
          "output_type": "stream",
          "name": "stdout",
          "text": [
            "Ingresa el número de elementos en la lista: 4\n",
            "Ingresa el elemento 1: Voy\n",
            "Ingresa el elemento 2: a\n",
            "Ingresa el elemento 3: pasar\n",
            "Ingresa el elemento 4: :D\n",
            "\n",
            "Lista original: ['Voy', 'a', 'pasar', ':D']\n",
            "Lista invertida: [':D', 'pasar', 'a', 'Voy']\n"
          ]
        }
      ]
    },
    {
      "cell_type": "code",
      "source": [
        "# 3- Desarrolla un algoritmo que le pregunte al usuario cuántos números de la serie de Fibonacci quiere generar y que al final los imprima.\n",
        "\n",
        "def generar_fibonacci(n):\n",
        "    fibonacci = [0, 1]\n",
        "\n",
        "    for i in range(2, n):\n",
        "        siguiente_numero = fibonacci[i-1] + fibonacci[i-2]\n",
        "        fibonacci.append(siguiente_numero)\n",
        "\n",
        "    return fibonacci\n",
        "\n",
        "# Solicitar al usuario la cantidad de números de Fibonacci a generar\n",
        "n = int(input(\"Ingrese la cantidad de números de la serie de Fibonacci que desea generar: \"))\n",
        "\n",
        "# Generar y mostrar la serie de Fibonacci\n",
        "resultado = generar_fibonacci(n)\n",
        "print(f\"Serie de Fibonacci con {n} números: {resultado}\")\n"
      ],
      "metadata": {
        "colab": {
          "base_uri": "https://localhost:8080/"
        },
        "id": "ZhIC8wQj5E3O",
        "outputId": "81637c38-fff6-48cb-c21f-1840935a11a1"
      },
      "execution_count": null,
      "outputs": [
        {
          "output_type": "stream",
          "name": "stdout",
          "text": [
            "Ingrese la cantidad de números de la serie de Fibonacci que desea generar: 9\n",
            "Serie de Fibonacci con 9 números: [0, 1, 1, 2, 3, 5, 8, 13, 21]\n"
          ]
        }
      ]
    },
    {
      "cell_type": "code",
      "source": [
        "# 4- Juego de adivinar el número: Crea un programa que genere un número aleatorio entre 1 y 100, y luego le pida al usuario que adivine el número.\n",
        "#El programa debe proporcionar pistas al usuario si el número es mayor o menor que el número objetivo, y seguir solicitando un nuevo intento hasta que el usuario adivine correctamente.\n",
        "\n",
        "import random\n",
        "\n",
        "def adivina_el_numero():\n",
        "    numero_objetivo = random.randint(1, 100)\n",
        "    intentos = 0\n",
        "\n",
        "    print(\"¡Bienvenido al juego de adivinar el número!\")\n",
        "\n",
        "    while True:\n",
        "        intento = int(input(\"Adivina el número (entre 1 y 100): \"))\n",
        "        intentos += 1\n",
        "\n",
        "        if intento == numero_objetivo:\n",
        "            print(f\"¡Felicidades! Has adivinado el número {numero_objetivo} en {intentos} intentos.\")\n",
        "            break\n",
        "        elif intento < numero_objetivo:\n",
        "            print(\"El número es mayor. Intenta de nuevo.\")\n",
        "        else:\n",
        "            print(\"El número es menor. Intenta de nuevo.\")\n",
        "\n",
        "# Llamar a la función principal del juego\n",
        "adivina_el_numero()\n"
      ],
      "metadata": {
        "colab": {
          "base_uri": "https://localhost:8080/"
        },
        "id": "_gBSgqhs5GRZ",
        "outputId": "6eae40a1-814c-4f68-d153-b2dc00c3b4f0"
      },
      "execution_count": null,
      "outputs": [
        {
          "output_type": "stream",
          "name": "stdout",
          "text": [
            "¡Bienvenido al juego de adivinar el número!\n",
            "Adivina el número (entre 1 y 100): 78\n",
            "El número es mayor. Intenta de nuevo.\n",
            "Adivina el número (entre 1 y 100): 80\n",
            "El número es mayor. Intenta de nuevo.\n",
            "Adivina el número (entre 1 y 100): 100\n",
            "El número es menor. Intenta de nuevo.\n",
            "Adivina el número (entre 1 y 100): 90\n",
            "El número es menor. Intenta de nuevo.\n",
            "Adivina el número (entre 1 y 100): 81\n",
            "El número es mayor. Intenta de nuevo.\n",
            "Adivina el número (entre 1 y 100): 85\n",
            "El número es menor. Intenta de nuevo.\n",
            "Adivina el número (entre 1 y 100): 84\n",
            "¡Felicidades! Has adivinado el número 84 en 7 intentos.\n"
          ]
        }
      ]
    },
    {
      "cell_type": "code",
      "source": [
        "# 5- Ejercicio de cálculo de números primos en un rango dado: Escribe un programa que solicite al usuario un rango de números y muestre todos los números primos dentro de ese rango.\n",
        "\n",
        "def es_primo(numero):\n",
        "    if numero < 2:\n",
        "        return False\n",
        "    for i in range(2, int(numero**0.5) + 1):\n",
        "        if numero % i == 0:\n",
        "            return False\n",
        "    return True\n",
        "\n",
        "def numeros_primos_en_rango():\n",
        "    inicio = int(input(\"Ingrese el inicio del rango: \"))\n",
        "    fin = int(input(\"Ingrese el final del rango: \"))\n",
        "\n",
        "    print(f\"Números primos en el rango de {inicio} a {fin}:\")\n",
        "\n",
        "    for num in range(inicio, fin + 1):\n",
        "        if es_primo(num):\n",
        "            print(num)\n",
        "\n",
        "# Llamar a la función principal\n",
        "numeros_primos_en_rango()\n"
      ],
      "metadata": {
        "colab": {
          "base_uri": "https://localhost:8080/"
        },
        "id": "0fy54M_q5GeS",
        "outputId": "035367e6-513a-44c2-f36c-f9173e7c337a"
      },
      "execution_count": null,
      "outputs": [
        {
          "output_type": "stream",
          "name": "stdout",
          "text": [
            "Ingrese el inicio del rango: 1\n",
            "Ingrese el final del rango: 40\n",
            "Números primos en el rango de 1 a 40:\n",
            "2\n",
            "3\n",
            "5\n",
            "7\n",
            "11\n",
            "13\n",
            "17\n",
            "19\n",
            "23\n",
            "29\n",
            "31\n",
            "37\n"
          ]
        }
      ]
    },
    {
      "cell_type": "code",
      "source": [
        "def suma(a, b):\n",
        "    return a + b\n",
        "\n",
        "def resta(a, b):\n",
        "    return a - b\n",
        "\n",
        "def multiplicacion(a, b):\n",
        "    return a * b\n",
        "\n",
        "def division(a, b):\n",
        "    if b != 0:\n",
        "        return a / b\n",
        "    else:\n",
        "        return \"Error: No se puede dividir por cero.\"\n",
        "\n",
        "def calculadora_basica():\n",
        "    try:\n",
        "        numero1 = float(input(\"Ingrese el primer número: \"))\n",
        "        numero2 = float(input(\"Ingrese el segundo número: \"))\n",
        "\n",
        "        print(\"\\nOperaciones disponibles:\")\n",
        "        print(\"1. Suma\")\n",
        "        print(\"2. Resta\")\n",
        "        print(\"3. Multiplicación\")\n",
        "        print(\"4. División\")\n",
        "\n",
        "        opcion = input(\"Seleccione la operación (1-4): \")\n",
        "\n",
        "        if opcion in [\"1\", \"2\", \"3\", \"4\"]:\n",
        "            if opcion == \"1\":\n",
        "                resultado = suma(numero1, numero2)\n",
        "                print(f\"La suma es: {resultado}\")\n",
        "            elif opcion == \"2\":\n",
        "                resultado = resta(numero1, numero2)\n",
        "                print(f\"La resta es: {resultado}\")\n",
        "            elif opcion == \"3\":\n",
        "                resultado = multiplicacion(numero1, numero2)\n",
        "                print(f\"La multiplicación es: {resultado}\")\n",
        "            elif opcion == \"4\":\n",
        "                resultado = division(numero1, numero2)\n",
        "                print(f\"La división es: {resultado}\")\n",
        "        else:\n",
        "            print(\"Opción no válida. Por favor, seleccione una operación válida.\")\n",
        "\n",
        "    except ValueError:\n",
        "        print(\"Error: Ingrese números válidos.\")\n",
        "\n",
        "# Llamar a la función principal de la calculadora\n",
        "calculadora_basica()\n",
        "\n"
      ],
      "metadata": {
        "colab": {
          "base_uri": "https://localhost:8080/"
        },
        "id": "KIh1Wa7S5GoJ",
        "outputId": "a1a9e0cd-fa25-45c1-cc12-78967474fd27"
      },
      "execution_count": null,
      "outputs": [
        {
          "output_type": "stream",
          "name": "stdout",
          "text": [
            "Ingrese el primer número: 9\n",
            "Ingrese el segundo número: 80\n",
            "\n",
            "Operaciones disponibles:\n",
            "1. Suma\n",
            "2. Resta\n",
            "3. Multiplicación\n",
            "4. División\n",
            "Seleccione la operación (1-4): 3\n",
            "La multiplicación es: 720.0\n"
          ]
        }
      ]
    }
  ]
}